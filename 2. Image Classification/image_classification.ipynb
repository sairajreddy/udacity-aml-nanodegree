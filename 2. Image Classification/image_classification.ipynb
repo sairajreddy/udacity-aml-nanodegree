{
 "cells": [
  {
   "cell_type": "markdown",
   "metadata": {
    "collapsed": true
   },
   "source": [
    "# Image Classification\n",
    "In this project, you'll classify images from the [CIFAR-10 dataset](https://www.cs.toronto.edu/~kriz/cifar.html).  The dataset consists of airplanes, dogs, cats, and other objects. You'll preprocess the images, then train a convolutional neural network on all the samples. The images need to be normalized and the labels need to be one-hot encoded.  You'll get to apply what you learned and build a convolutional, max pooling, dropout, and fully connected layers.  At the end, you'll get to see your neural network's predictions on the sample images.\n",
    "## Get the Data\n",
    "Run the following cell to download the [CIFAR-10 dataset for python](https://www.cs.toronto.edu/~kriz/cifar-10-python.tar.gz)."
   ]
  },
  {
   "cell_type": "code",
   "execution_count": 1,
   "metadata": {
    "collapsed": false
   },
   "outputs": [
    {
     "name": "stdout",
     "output_type": "stream",
     "text": [
      "All files found!\n"
     ]
    }
   ],
   "source": [
    "\"\"\"\n",
    "DON'T MODIFY ANYTHING IN THIS CELL THAT IS BELOW THIS LINE\n",
    "\"\"\"\n",
    "from urllib.request import urlretrieve\n",
    "from os.path import isfile, isdir\n",
    "from tqdm import tqdm\n",
    "import problem_unittests as tests\n",
    "import tarfile\n",
    "\n",
    "cifar10_dataset_folder_path = 'cifar-10-batches-py'\n",
    "\n",
    "class DLProgress(tqdm):\n",
    "    last_block = 0\n",
    "\n",
    "    def hook(self, block_num=1, block_size=1, total_size=None):\n",
    "        self.total = total_size\n",
    "        self.update((block_num - self.last_block) * block_size)\n",
    "        self.last_block = block_num\n",
    "\n",
    "if not isfile('cifar-10-python.tar.gz'):\n",
    "    with DLProgress(unit='B', unit_scale=True, miniters=1, desc='CIFAR-10 Dataset') as pbar:\n",
    "        urlretrieve(\n",
    "            'https://www.cs.toronto.edu/~kriz/cifar-10-python.tar.gz',\n",
    "            'cifar-10-python.tar.gz',\n",
    "            pbar.hook)\n",
    "\n",
    "if not isdir(cifar10_dataset_folder_path):\n",
    "    with tarfile.open('cifar-10-python.tar.gz') as tar:\n",
    "        tar.extractall()\n",
    "        tar.close()\n",
    "\n",
    "\n",
    "tests.test_folder_path(cifar10_dataset_folder_path)"
   ]
  },
  {
   "cell_type": "markdown",
   "metadata": {},
   "source": [
    "## Explore the Data\n",
    "The dataset is broken into batches to prevent your machine from running out of memory.  The CIFAR-10 dataset consists of 5 batches, named `data_batch_1`, `data_batch_2`, etc.. Each batch contains the labels and images that are one of the following:\n",
    "* airplane\n",
    "* automobile\n",
    "* bird\n",
    "* cat\n",
    "* deer\n",
    "* dog\n",
    "* frog\n",
    "* horse\n",
    "* ship\n",
    "* truck\n",
    "\n",
    "Understanding a dataset is part of making predictions on the data.  Play around with the code cell below by changing the `batch_id` and `sample_id`. The `batch_id` is the id for a batch (1-5). The `sample_id` is the id for a image and label pair in the batch.\n",
    "\n",
    "Ask yourself \"What are all possible labels?\", \"What is the range of values for the image data?\", \"Are the labels in order or random?\".  Answers to questions like these will help you preprocess the data and end up with better predictions."
   ]
  },
  {
   "cell_type": "code",
   "execution_count": 2,
   "metadata": {
    "collapsed": false
   },
   "outputs": [
    {
     "name": "stdout",
     "output_type": "stream",
     "text": [
      "\n",
      "Stats of batch 1:\n",
      "Samples: 10000\n",
      "Label Counts: {0: 1005, 1: 974, 2: 1032, 3: 1016, 4: 999, 5: 937, 6: 1030, 7: 1001, 8: 1025, 9: 981}\n",
      "First 20 Labels: [6, 9, 9, 4, 1, 1, 2, 7, 8, 3, 4, 7, 7, 2, 9, 9, 9, 3, 2, 6]\n",
      "\n",
      "Example of Image 5:\n",
      "Image - Min Value: 0 Max Value: 252\n",
      "Image - Shape: (32, 32, 3)\n",
      "Label - Label Id: 1 Name: automobile\n"
     ]
    },
    {
     "data": {
      "image/png": "[encoded data removed]",
      "text/plain": [
       "<matplotlib.figure.Figure at 0x127257dd8>"
      ]
     },
     "metadata": {
      "image/png": {
       "height": 250,
       "width": 253
      }
     },
     "output_type": "display_data"
    }
   ],
   "source": [
    "%matplotlib inline\n",
    "%config InlineBackend.figure_format = 'retina'\n",
    "\n",
    "import helper\n",
    "import numpy as np\n",
    "\n",
    "# Explore the dataset\n",
    "batch_id = 1\n",
    "sample_id = 5\n",
    "helper.display_stats(cifar10_dataset_folder_path, batch_id, sample_id)"
   ]
  },
  {
   "cell_type": "markdown",
   "metadata": {},
   "source": [
    "## Implement Preprocess Functions\n",
    "### Normalize\n",
    "In the cell below, implement the `normalize` function to take in image data, `x`, and return it as a normalized Numpy array. The values should be in the range of 0 to 1, inclusive.  The return object should be the same shape as `x`."
   ]
  },
  {
   "cell_type": "code",
   "execution_count": 3,
   "metadata": {
    "collapsed": false
   },
   "outputs": [
    {
     "name": "stdout",
     "output_type": "stream",
     "text": [
      "Tests Passed\n"
     ]
    }
   ],
   "source": [
    "def normalize(x):\n",
    "    \"\"\"\n",
    "    Normalize a list of sample image data in the range of 0 to 1\n",
    "    : x: List of image data.  The image shape is (32, 32, 3)\n",
    "    : return: Numpy array of normalize data\n",
    "    \"\"\"\n",
    "    x = np.array(x)\n",
    "    x = x/255.0\n",
    "    return x\n",
    "\n",
    "\n",
    "\"\"\"\n",
    "DON'T MODIFY ANYTHING IN THIS CELL THAT IS BELOW THIS LINE\n",
    "\"\"\"\n",
    "tests.test_normalize(normalize)"
   ]
  },
  {
   "cell_type": "markdown",
   "metadata": {},
   "source": [
    "### One-hot encode\n",
    "Just like the previous code cell, you'll be implementing a function for preprocessing.  This time, you'll implement the `one_hot_encode` function. The input, `x`, are a list of labels.  Implement the function to return the list of labels as One-Hot encoded Numpy array.  The possible values for labels are 0 to 9. The one-hot encoding function should return the same encoding for each value between each call to `one_hot_encode`.  Make sure to save the map of encodings outside the function.\n",
    "\n",
    "**Hint:**\n",
    "\n",
    "Look into LabelBinarizer in the preprocessing module of sklearn."
   ]
  },
  {
   "cell_type": "code",
   "execution_count": 4,
   "metadata": {
    "collapsed": false
   },
   "outputs": [
    {
     "name": "stdout",
     "output_type": "stream",
     "text": [
      "Tests Passed\n"
     ]
    }
   ],
   "source": [
    "def one_hot_encode(x):\n",
    "    \"\"\"\n",
    "    One hot encode a list of sample labels. Return a one-hot encoded vector for each label.\n",
    "    : x: List of sample Labels\n",
    "    : return: Numpy array of one-hot encoded labels\n",
    "    \"\"\"\n",
    "    from sklearn import preprocessing\n",
    "    lab_bin = preprocessing.LabelBinarizer()\n",
    "    lab_bin.fit(range(10))\n",
    "    result = lab_bin.transform(x)\n",
    "    return result\n",
    "\n",
    "\n",
    "\"\"\"\n",
    "DON'T MODIFY ANYTHING IN THIS CELL THAT IS BELOW THIS LINE\n",
    "\"\"\"\n",
    "tests.test_one_hot_encode(one_hot_encode)"
   ]
  },
  {
   "cell_type": "markdown",
   "metadata": {},
   "source": [
    "### Randomize Data\n",
    "As you saw from exploring the data above, the order of the samples are randomized.  It doesn't hurt to randomize it again, but you don't need to for this dataset."
   ]
  },
  {
   "cell_type": "markdown",
   "metadata": {},
   "source": [
    "## Preprocess all the data and save it\n",
    "Running the code cell below will preprocess all the CIFAR-10 data and save it to file. The code below also uses 10% of the training data for validation."
   ]
  },
  {
   "cell_type": "code",
   "execution_count": 5,
   "metadata": {
    "collapsed": false
   },
   "outputs": [],
   "source": [
    "\"\"\"\n",
    "DON'T MODIFY ANYTHING IN THIS CELL\n",
    "\"\"\"\n",
    "# Preprocess Training, Validation, and Testing Data\n",
    "helper.preprocess_and_save_data(cifar10_dataset_folder_path, normalize, one_hot_encode)"
   ]
  },
  {
   "cell_type": "markdown",
   "metadata": {},
   "source": [
    "# Check Point\n",
    "This is your first checkpoint.  If you ever decide to come back to this notebook or have to restart the notebook, you can start from here.  The preprocessed data has been saved to disk."
   ]
  },
  {
   "cell_type": "code",
   "execution_count": 6,
   "metadata": {
    "collapsed": true
   },
   "outputs": [],
   "source": [
    "\"\"\"\n",
    "DON'T MODIFY ANYTHING IN THIS CELL\n",
    "\"\"\"\n",
    "import pickle\n",
    "import problem_unittests as tests\n",
    "import helper\n",
    "\n",
    "# Load the Preprocessed Validation data\n",
    "valid_features, valid_labels = pickle.load(open('preprocess_validation.p', mode='rb'))"
   ]
  },
  {
   "cell_type": "markdown",
   "metadata": {},
   "source": [
    "## Build the network\n",
    "For the neural network, you'll build each layer into a function.  Most of the code you've seen has been outside of functions. To test your code more thoroughly, we require that you put each layer in a function.  This allows us to give you better feedback and test for simple mistakes using our unittests before you submit your project.\n",
    "\n",
    ">**Note:** If you're finding it hard to dedicate enough time for this course each week, we've provided a small shortcut to this part of the project. In the next couple of problems, you'll have the option to use classes from the [TensorFlow Layers](https://www.tensorflow.org/api_docs/python/tf/layers) or [TensorFlow Layers (contrib)](https://www.tensorflow.org/api_guides/python/contrib.layers) packages to build each layer, except the layers you build in the \"Convolutional and Max Pooling Layer\" section.  TF Layers is similar to Keras's and TFLearn's abstraction to layers, so it's easy to pickup.\n",
    "\n",
    ">However, if you would like to get the most out of this course, try to solve all the problems _without_ using anything from the TF Layers packages. You **can** still use classes from other packages that happen to have the same name as ones you find in TF Layers! For example, instead of using the TF Layers version of the `conv2d` class, [tf.layers.conv2d](https://www.tensorflow.org/api_docs/python/tf/layers/conv2d), you would want to use the TF Neural Network version of `conv2d`, [tf.nn.conv2d](https://www.tensorflow.org/api_docs/python/tf/nn/conv2d). \n",
    "\n",
    "Let's begin!\n",
    "\n",
    "### Input\n",
    "The neural network needs to read the image data, one-hot encoded labels, and dropout keep probability. Implement the following functions\n",
    "* Implement `neural_net_image_input`\n",
    " * Return a [TF Placeholder](https://www.tensorflow.org/api_docs/python/tf/placeholder)\n",
    " * Set the shape using `image_shape` with batch size set to `None`.\n",
    " * Name the TensorFlow placeholder \"x\" using the TensorFlow `name` parameter in the [TF Placeholder](https://www.tensorflow.org/api_docs/python/tf/placeholder).\n",
    "* Implement `neural_net_label_input`\n",
    " * Return a [TF Placeholder](https://www.tensorflow.org/api_docs/python/tf/placeholder)\n",
    " * Set the shape using `n_classes` with batch size set to `None`.\n",
    " * Name the TensorFlow placeholder \"y\" using the TensorFlow `name` parameter in the [TF Placeholder](https://www.tensorflow.org/api_docs/python/tf/placeholder).\n",
    "* Implement `neural_net_keep_prob_input`\n",
    " * Return a [TF Placeholder](https://www.tensorflow.org/api_docs/python/tf/placeholder) for dropout keep probability.\n",
    " * Name the TensorFlow placeholder \"keep_prob\" using the TensorFlow `name` parameter in the [TF Placeholder](https://www.tensorflow.org/api_docs/python/tf/placeholder).\n",
    "\n",
    "These names will be used at the end of the project to load your saved model.\n",
    "\n",
    "Note: `None` for shapes in TensorFlow allow for a dynamic size."
   ]
  },
  {
   "cell_type": "code",
   "execution_count": 7,
   "metadata": {
    "collapsed": false
   },
   "outputs": [
    {
     "name": "stdout",
     "output_type": "stream",
     "text": [
      "Image Input Tests Passed.\n",
      "Label Input Tests Passed.\n",
      "Keep Prob Tests Passed.\n"
     ]
    }
   ],
   "source": [
    "import tensorflow as tf\n",
    "\n",
    "def neural_net_image_input(image_shape):\n",
    "    \"\"\"\n",
    "    Return a Tensor for a batch of image input\n",
    "    : image_shape: Shape of the images\n",
    "    : return: Tensor for image input.\n",
    "    \"\"\"\n",
    "    im_shape = list(image_shape)\n",
    "    im_shape.insert(0,None)\n",
    "    im_shape = tuple(im_shape)\n",
    "    return tf.placeholder(dtype = tf.float32, shape = im_shape, name = 'x')\n",
    "\n",
    "\n",
    "def neural_net_label_input(n_classes):\n",
    "    \"\"\"\n",
    "    Return a Tensor for a batch of label input\n",
    "    : n_classes: Number of classes\n",
    "    : return: Tensor for label input.\n",
    "    \"\"\"\n",
    "    return tf.placeholder(dtype = tf.uint8, shape = (None, n_classes), name = 'y')\n",
    "\n",
    "def neural_net_keep_prob_input():\n",
    "    \"\"\"\n",
    "    Return a Tensor for keep probability\n",
    "    : return: Tensor for keep probability.\n",
    "    \"\"\"\n",
    "    return tf.placeholder(dtype = tf.float32,name = 'keep_prob')\n",
    "\n",
    "\"\"\"\n",
    "DON'T MODIFY ANYTHING IN THIS CELL THAT IS BELOW THIS LINE\n",
    "\"\"\"\n",
    "tf.reset_default_graph()\n",
    "tests.test_nn_image_inputs(neural_net_image_input)\n",
    "tests.test_nn_label_inputs(neural_net_label_input)\n",
    "tests.test_nn_keep_prob_inputs(neural_net_keep_prob_input)"
   ]
  },
  {
   "cell_type": "markdown",
   "metadata": {},
   "source": [
    "### Convolution and Max Pooling Layer\n",
    "Convolution layers have a lot of success with images. For this code cell, you should implement the function `conv2d_maxpool` to apply convolution then max pooling:\n",
    "* Create the weight and bias using `conv_ksize`, `conv_num_outputs` and the shape of `x_tensor`.\n",
    "* Apply a convolution to `x_tensor` using weight and `conv_strides`.\n",
    " * We recommend you use same padding, but you're welcome to use any padding.\n",
    "* Add bias\n",
    "* Add a nonlinear activation to the convolution.\n",
    "* Apply Max Pooling using `pool_ksize` and `pool_strides`.\n",
    " * We recommend you use same padding, but you're welcome to use any padding.\n",
    "\n",
    "**Note:** You **can't** use [TensorFlow Layers](https://www.tensorflow.org/api_docs/python/tf/layers) or [TensorFlow Layers (contrib)](https://www.tensorflow.org/api_guides/python/contrib.layers) for **this** layer, but you can still use TensorFlow's [Neural Network](https://www.tensorflow.org/api_docs/python/tf/nn) package. You may still use the shortcut option for all the **other** layers.\n",
    "\n",
    "** Hint: **\n",
    "\n",
    "When unpacking values as an argument in Python, look into the [unpacking](https://docs.python.org/3/tutorial/controlflow.html#unpacking-argument-lists) operator. "
   ]
  },
  {
   "cell_type": "code",
   "execution_count": 8,
   "metadata": {
    "collapsed": false
   },
   "outputs": [
    {
     "name": "stdout",
     "output_type": "stream",
     "text": [
      "Tests Passed\n"
     ]
    }
   ],
   "source": [
    "def conv2d_maxpool(x_tensor, conv_num_outputs, conv_ksize, conv_strides, pool_ksize, pool_strides):\n",
    "    \"\"\"\n",
    "    Apply convolution then max pooling to x_tensor\n",
    "    :param x_tensor: TensorFlow Tensor\n",
    "    :param conv_num_outputs: Number of outputs for the convolutional layer\n",
    "    :param conv_ksize: kernal size 2-D Tuple for the convolutional layer\n",
    "    :param conv_strides: Stride 2-D Tuple for convolution\n",
    "    :param pool_ksize: kernal size 2-D Tuple for pool\n",
    "    :param pool_strides: Stride 2-D Tuple for pool\n",
    "    : return: A tensor that represents convolution and max pooling of x_tensor\n",
    "    \"\"\"\n",
    "    all_channels = int(x_tensor.get_shape()[-1])\n",
    "    weights  = tf.Variable(tf.truncated_normal([*conv_ksize, all_channels, conv_num_outputs]))\n",
    "    i_bias = tf.Variable(tf.zeros(conv_num_outputs))\n",
    "    convu_layer = tf.nn.conv2d(x_tensor, weights,[1,*conv_strides,1],padding = 'SAME')\n",
    "    convu_layer = tf.nn.bias_add(convu_layer, i_bias)\n",
    "    convu_layer = tf.nn.relu(convu_layer)\n",
    "    convu_layer = tf.nn.max_pool(convu_layer,[1,*pool_ksize,1], [1,*pool_strides,1], padding='SAME')\n",
    "    return  convu_layer\n",
    "\n",
    "\"\"\"\n",
    "DON'T MODIFY ANYTHING IN THIS CELL THAT IS BELOW THIS LINE\n",
    "\"\"\"\n",
    "tests.test_con_pool(conv2d_maxpool)"
   ]
  },
  {
   "cell_type": "markdown",
   "metadata": {},
   "source": [
    "### Flatten Layer\n",
    "Implement the `flatten` function to change the dimension of `x_tensor` from a 4-D tensor to a 2-D tensor.  The output should be the shape (*Batch Size*, *Flattened Image Size*). Shortcut option: you can use classes from the [TensorFlow Layers](https://www.tensorflow.org/api_docs/python/tf/layers) or [TensorFlow Layers (contrib)](https://www.tensorflow.org/api_guides/python/contrib.layers) packages for this layer. For more of a challenge, only use other TensorFlow packages."
   ]
  },
  {
   "cell_type": "code",
   "execution_count": 9,
   "metadata": {
    "collapsed": false
   },
   "outputs": [
    {
     "name": "stdout",
     "output_type": "stream",
     "text": [
      "Tests Passed\n"
     ]
    }
   ],
   "source": [
    "def flatten(x_tensor):\n",
    "    \"\"\"\n",
    "    Flatten x_tensor to (Batch Size, Flattened Image Size)\n",
    "    : x_tensor: A tensor of size (Batch Size, ...), where ... are the image dimensions.\n",
    "    : return: A tensor of size (Batch Size, Flattened Image Size).\n",
    "    \"\"\"\n",
    "    present_shape = x_tensor.get_shape().as_list()\n",
    "    flattened_dim = np.prod(np.array(present_shape[1:]))\n",
    "    return tf.reshape(x_tensor,shape = [-1,flattened_dim])\n",
    "\n",
    "\"\"\"\n",
    "DON'T MODIFY ANYTHING IN THIS CELL THAT IS BELOW THIS LINE\n",
    "\"\"\"\n",
    "tests.test_flatten(flatten)"
   ]
  },
  {
   "cell_type": "markdown",
   "metadata": {},
   "source": [
    "### Fully-Connected Layer\n",
    "Implement the `fully_conn` function to apply a fully connected layer to `x_tensor` with the shape (*Batch Size*, *num_outputs*). Shortcut option: you can use classes from the [TensorFlow Layers](https://www.tensorflow.org/api_docs/python/tf/layers) or [TensorFlow Layers (contrib)](https://www.tensorflow.org/api_guides/python/contrib.layers) packages for this layer. For more of a challenge, only use other TensorFlow packages."
   ]
  },
  {
   "cell_type": "code",
   "execution_count": 11,
   "metadata": {
    "collapsed": false
   },
   "outputs": [
    {
     "name": "stdout",
     "output_type": "stream",
     "text": [
      "Tests Passed\n"
     ]
    }
   ],
   "source": [
    "def fully_conn(x_tensor, num_outputs):\n",
    "    \"\"\"\n",
    "    Apply a fully connected layer to x_tensor using weight and bias\n",
    "    : x_tensor: A 2-D tensor where the first dimension is batch size.\n",
    "    : num_outputs: The number of output that the new tensor should be.\n",
    "    : return: A 2-D tensor where the second dimension is num_outputs.\n",
    "    \"\"\"\n",
    "    present_shape = x_tensor.get_shape().as_list()\n",
    "    weights = tf.Variable(tf.truncated_normal([present_shape[1],num_outputs]))\n",
    "    i_bias = tf.Variable(tf.zeros(num_outputs))\n",
    "    fully_connected = tf.add(tf.matmul(x_tensor, weights), i_bias)\n",
    "    \n",
    "    return tf.nn.relu(fully_connected)\n",
    "\n",
    "\n",
    "\"\"\"\n",
    "DON'T MODIFY ANYTHING IN THIS CELL THAT IS BELOW THIS LINE\n",
    "\"\"\"\n",
    "tests.test_fully_conn(fully_conn)"
   ]
  },
  {
   "cell_type": "markdown",
   "metadata": {},
   "source": [
    "### Output Layer\n",
    "Implement the `output` function to apply a fully connected layer to `x_tensor` with the shape (*Batch Size*, *num_outputs*). Shortcut option: you can use classes from the [TensorFlow Layers](https://www.tensorflow.org/api_docs/python/tf/layers) or [TensorFlow Layers (contrib)](https://www.tensorflow.org/api_guides/python/contrib.layers) packages for this layer. For more of a challenge, only use other TensorFlow packages.\n",
    "\n",
    "**Note:** Activation, softmax, or cross entropy should **not** be applied to this."
   ]
  },
  {
   "cell_type": "code",
   "execution_count": 12,
   "metadata": {
    "collapsed": false
   },
   "outputs": [
    {
     "name": "stdout",
     "output_type": "stream",
     "text": [
      "Tests Passed\n"
     ]
    }
   ],
   "source": [
    "def output(x_tensor, num_outputs):\n",
    "    \"\"\"\n",
    "    Apply a output layer to x_tensor using weight and bias\n",
    "    : x_tensor: A 2-D tensor where the first dimension is batch size.\n",
    "    : num_outputs: The number of output that the new tensor should be.\n",
    "    : return: A 2-D tensor where the second dimension is num_outputs.\n",
    "    \"\"\"\n",
    "    present_shape = x_tensor.get_shape().as_list()\n",
    "    weights = tf.Variable(tf.truncated_normal([present_shape[1], num_outputs]))\n",
    "    i_bias = tf.Variable(tf.zeros(num_outputs))\n",
    "    final_op = tf.add(tf.matmul(x_tensor, weights),i_bias)\n",
    "    return final_op\n",
    "\n",
    "\n",
    "\"\"\"\n",
    "DON'T MODIFY ANYTHING IN THIS CELL THAT IS BELOW THIS LINE\n",
    "\"\"\"\n",
    "tests.test_output(output)"
   ]
  },
  {
   "cell_type": "markdown",
   "metadata": {},
   "source": [
    "### Create Convolutional Model\n",
    "Implement the function `conv_net` to create a convolutional neural network model. The function takes in a batch of images, `x`, and outputs logits.  Use the layers you created above to create this model:\n",
    "\n",
    "* Apply 1, 2, or 3 Convolution and Max Pool layers\n",
    "* Apply a Flatten Layer\n",
    "* Apply 1, 2, or 3 Fully Connected Layers\n",
    "* Apply an Output Layer\n",
    "* Return the output\n",
    "* Apply [TensorFlow's Dropout](https://www.tensorflow.org/api_docs/python/tf/nn/dropout) to one or more layers in the model using `keep_prob`. "
   ]
  },
  {
   "cell_type": "code",
   "execution_count": 13,
   "metadata": {
    "collapsed": false
   },
   "outputs": [
    {
     "name": "stdout",
     "output_type": "stream",
     "text": [
      "WARNING:tensorflow:From <ipython-input-13-c096db909999>:48: softmax_cross_entropy_with_logits (from tensorflow.python.ops.nn_ops) is deprecated and will be removed in a future version.\n",
      "Instructions for updating:\n",
      "\n",
      "Future major versions of TensorFlow will allow gradients to flow\n",
      "into the labels input on backprop by default.\n",
      "\n",
      "See tf.nn.softmax_cross_entropy_with_logits_v2.\n",
      "\n",
      "Neural Network Built!\n"
     ]
    }
   ],
   "source": [
    "def conv_net(x, keep_prob):\n",
    "    \"\"\"\n",
    "    Create a convolutional neural network model\n",
    "    : x: Placeholder tensor that holds image data.\n",
    "    : keep_prob: Placeholder tensor that hold dropout keep probability.\n",
    "    : return: Tensor that represents logits\n",
    "    \"\"\"\n",
    "    convu1 = conv2d_maxpool(x_tensor = x, conv_num_outputs = 64, conv_ksize = (3,3), conv_strides = (1,1),\n",
    "                            pool_ksize = (2,2), pool_strides =(2,2))\n",
    "    convu2 = conv2d_maxpool(x_tensor = convu1, conv_num_outputs = 128 , conv_ksize =(3,3), conv_strides=(1,1),\n",
    "                           pool_ksize = (2,2), pool_strides =(2,2))\n",
    "    \n",
    "\n",
    "    flat_convu = flatten(convu2)\n",
    "    \n",
    "\n",
    "    convu_layer = fully_conn(x_tensor = flat_convu, num_outputs = 10000)  \n",
    "    convu_layer = tf.nn.relu(convu_layer)\n",
    "    convu_layer = tf.nn.dropout(convu_layer,keep_prob)\n",
    "    \n",
    "    convu_out = output(x_tensor = convu_layer, num_outputs = 10)\n",
    "    \n",
    "    return convu_out\n",
    "\n",
    "\"\"\"\n",
    "DON'T MODIFY ANYTHING IN THIS CELL THAT IS BELOW THIS LINE\n",
    "\"\"\"\n",
    "\n",
    "##############################\n",
    "## Build the Neural Network ##\n",
    "##############################\n",
    "\n",
    "# Remove previous weights, bias, inputs, etc..\n",
    "tf.reset_default_graph()\n",
    "\n",
    "# Inputs\n",
    "x = neural_net_image_input((32, 32, 3))\n",
    "y = neural_net_label_input(10)\n",
    "keep_prob = neural_net_keep_prob_input()\n",
    "\n",
    "# Model\n",
    "logits = conv_net(x, keep_prob)\n",
    "\n",
    "# Name logits Tensor, so that is can be loaded from disk after training\n",
    "logits = tf.identity(logits, name='logits')\n",
    "\n",
    "# Loss and Optimizer\n",
    "cost = tf.reduce_mean(tf.nn.softmax_cross_entropy_with_logits(logits=logits, labels=y))\n",
    "optimizer = tf.train.AdamOptimizer().minimize(cost)\n",
    "\n",
    "# Accuracy\n",
    "correct_pred = tf.equal(tf.argmax(logits, 1), tf.argmax(y, 1))\n",
    "accuracy = tf.reduce_mean(tf.cast(correct_pred, tf.float32), name='accuracy')\n",
    "\n",
    "tests.test_conv_net(conv_net)"
   ]
  },
  {
   "cell_type": "markdown",
   "metadata": {},
   "source": [
    "## Train the Neural Network\n",
    "### Single Optimization\n",
    "Implement the function `train_neural_network` to do a single optimization.  The optimization should use `optimizer` to optimize in `session` with a `feed_dict` of the following:\n",
    "* `x` for image input\n",
    "* `y` for labels\n",
    "* `keep_prob` for keep probability for dropout\n",
    "\n",
    "This function will be called for each batch, so `tf.global_variables_initializer()` has already been called.\n",
    "\n",
    "Note: Nothing needs to be returned. This function is only optimizing the neural network."
   ]
  },
  {
   "cell_type": "code",
   "execution_count": 14,
   "metadata": {
    "collapsed": false
   },
   "outputs": [
    {
     "name": "stdout",
     "output_type": "stream",
     "text": [
      "Tests Passed\n"
     ]
    }
   ],
   "source": [
    "def train_neural_network(session, optimizer, keep_probability, feature_batch, label_batch):\n",
    "    \"\"\"\n",
    "    Optimize the session on a batch of images and labels\n",
    "    : session: Current TensorFlow session\n",
    "    : optimizer: TensorFlow optimizer function\n",
    "    : keep_probability: keep probability\n",
    "    : feature_batch: Batch of Numpy image data\n",
    "    : label_batch: Batch of Numpy label data\n",
    "    \"\"\"\n",
    "    session.run(optimizer, feed_dict={x:feature_batch, y:label_batch, keep_prob:keep_probability})\n",
    "\n",
    "\n",
    "\"\"\"\n",
    "DON'T MODIFY ANYTHING IN THIS CELL THAT IS BELOW THIS LINE\n",
    "\"\"\"\n",
    "tests.test_train_nn(train_neural_network)"
   ]
  },
  {
   "cell_type": "markdown",
   "metadata": {},
   "source": [
    "### Show Stats\n",
    "Implement the function `print_stats` to print loss and validation accuracy.  Use the global variables `valid_features` and `valid_labels` to calculate validation accuracy.  Use a keep probability of `1.0` to calculate the loss and validation accuracy."
   ]
  },
  {
   "cell_type": "code",
   "execution_count": 15,
   "metadata": {
    "collapsed": false
   },
   "outputs": [],
   "source": [
    "def print_stats(session, feature_batch, label_batch, cost, accuracy):\n",
    "    \"\"\"\n",
    "    Print information about loss and validation accuracy\n",
    "    : session: Current TensorFlow session\n",
    "    : feature_batch: Batch of Numpy image data\n",
    "    : label_batch: Batch of Numpy label data\n",
    "    : cost: TensorFlow cost function\n",
    "    : accuracy: TensorFlow accuracy function\n",
    "    \"\"\"\n",
    "    loss = session.run(cost, feed_dict = {x:feature_batch, y:label_batch, keep_prob:1.0})\n",
    "    validation_accuracy = session.run(accuracy,feed_dict = {x:valid_features, y:valid_labels, keep_prob:1.0})\n",
    "    print (\"Loss is {0:.6f} and Validation Accuracy is {1:.6f}\".format(loss, validation_accuracy))"
   ]
  },
  {
   "cell_type": "markdown",
   "metadata": {},
   "source": [
    "### Hyperparameters\n",
    "Tune the following parameters:\n",
    "* Set `epochs` to the number of iterations until the network stops learning or start overfitting\n",
    "* Set `batch_size` to the highest number that your machine has memory for.  Most people set them to common sizes of memory:\n",
    " * 64\n",
    " * 128\n",
    " * 256\n",
    " * ...\n",
    "* Set `keep_probability` to the probability of keeping a node using dropout"
   ]
  },
  {
   "cell_type": "code",
   "execution_count": 16,
   "metadata": {
    "collapsed": true
   },
   "outputs": [],
   "source": [
    "# TODO: Tune Parameters\n",
    "epochs = 70\n",
    "batch_size = 128\n",
    "keep_probability = 0.93"
   ]
  },
  {
   "cell_type": "markdown",
   "metadata": {},
   "source": [
    "### Train on a Single CIFAR-10 Batch\n",
    "Instead of training the neural network on all the CIFAR-10 batches of data, let's use a single batch. This should save time while you iterate on the model to get a better accuracy.  Once the final validation accuracy is 50% or greater, run the model on all the data in the next section."
   ]
  },
  {
   "cell_type": "code",
   "execution_count": 17,
   "metadata": {
    "collapsed": false
   },
   "outputs": [
    {
     "name": "stdout",
     "output_type": "stream",
     "text": [
      "Checking the Training on a Single Batch...\n",
      "Epoch  1, CIFAR-10 Batch 1:  Loss is 26925.802734 and Validation Accuracy is 0.370000\n",
      "Epoch  2, CIFAR-10 Batch 1:  Loss is 13232.041016 and Validation Accuracy is 0.412000\n",
      "Epoch  3, CIFAR-10 Batch 1:  Loss is 5977.894531 and Validation Accuracy is 0.437800\n",
      "Epoch  4, CIFAR-10 Batch 1:  Loss is 4496.120117 and Validation Accuracy is 0.437600\n",
      "Epoch  5, CIFAR-10 Batch 1:  Loss is 2390.236816 and Validation Accuracy is 0.468800\n",
      "Epoch  6, CIFAR-10 Batch 1:  Loss is 1417.298096 and Validation Accuracy is 0.480600\n",
      "Epoch  7, CIFAR-10 Batch 1:  Loss is 1252.226562 and Validation Accuracy is 0.485600\n",
      "Epoch  8, CIFAR-10 Batch 1:  Loss is 1064.702148 and Validation Accuracy is 0.492000\n",
      "Epoch  9, CIFAR-10 Batch 1:  Loss is 973.265259 and Validation Accuracy is 0.492600\n",
      "Epoch 10, CIFAR-10 Batch 1:  Loss is 364.859314 and Validation Accuracy is 0.490800\n",
      "Epoch 11, CIFAR-10 Batch 1:  Loss is 138.516403 and Validation Accuracy is 0.490800\n",
      "Epoch 12, CIFAR-10 Batch 1:  Loss is 0.000000 and Validation Accuracy is 0.475800\n",
      "Epoch 13, CIFAR-10 Batch 1:  Loss is 64.519089 and Validation Accuracy is 0.512200\n",
      "Epoch 14, CIFAR-10 Batch 1:  Loss is 0.000000 and Validation Accuracy is 0.489400\n",
      "Epoch 15, CIFAR-10 Batch 1:  Loss is 43.860485 and Validation Accuracy is 0.507600\n",
      "Epoch 16, CIFAR-10 Batch 1:  Loss is 0.000000 and Validation Accuracy is 0.504400\n",
      "Epoch 17, CIFAR-10 Batch 1:  Loss is 0.000000 and Validation Accuracy is 0.509600\n",
      "Epoch 18, CIFAR-10 Batch 1:  Loss is 0.000000 and Validation Accuracy is 0.517600\n",
      "Epoch 19, CIFAR-10 Batch 1:  Loss is 0.000000 and Validation Accuracy is 0.516600\n",
      "Epoch 20, CIFAR-10 Batch 1:  Loss is 20.212793 and Validation Accuracy is 0.515000\n",
      "Epoch 21, CIFAR-10 Batch 1:  Loss is 0.000000 and Validation Accuracy is 0.510000\n",
      "Epoch 22, CIFAR-10 Batch 1:  Loss is 0.000000 and Validation Accuracy is 0.514600\n",
      "Epoch 23, CIFAR-10 Batch 1:  Loss is 0.000000 and Validation Accuracy is 0.530000\n",
      "Epoch 24, CIFAR-10 Batch 1:  Loss is 0.000000 and Validation Accuracy is 0.520400\n",
      "Epoch 25, CIFAR-10 Batch 1:  Loss is 0.000000 and Validation Accuracy is 0.515200\n",
      "Epoch 26, CIFAR-10 Batch 1:  Loss is 0.000000 and Validation Accuracy is 0.522800\n",
      "Epoch 27, CIFAR-10 Batch 1:  Loss is 0.000000 and Validation Accuracy is 0.504000\n",
      "Epoch 28, CIFAR-10 Batch 1:  Loss is 0.000000 and Validation Accuracy is 0.516800\n",
      "Epoch 29, CIFAR-10 Batch 1:  Loss is 0.000000 and Validation Accuracy is 0.508000\n",
      "Epoch 30, CIFAR-10 Batch 1:  Loss is 0.000000 and Validation Accuracy is 0.508600\n",
      "Epoch 31, CIFAR-10 Batch 1:  Loss is 0.000000 and Validation Accuracy is 0.501000\n",
      "Epoch 32, CIFAR-10 Batch 1:  Loss is 0.000000 and Validation Accuracy is 0.522600\n",
      "Epoch 33, CIFAR-10 Batch 1:  Loss is 0.000000 and Validation Accuracy is 0.538000\n",
      "Epoch 34, CIFAR-10 Batch 1:  Loss is 0.000000 and Validation Accuracy is 0.519000\n",
      "Epoch 35, CIFAR-10 Batch 1:  Loss is 0.000000 and Validation Accuracy is 0.541400\n",
      "Epoch 36, CIFAR-10 Batch 1:  Loss is 0.000000 and Validation Accuracy is 0.528800\n",
      "Epoch 37, CIFAR-10 Batch 1:  Loss is 0.000000 and Validation Accuracy is 0.517200\n",
      "Epoch 38, CIFAR-10 Batch 1:  Loss is 0.000000 and Validation Accuracy is 0.521200\n",
      "Epoch 39, CIFAR-10 Batch 1:  Loss is 0.000000 and Validation Accuracy is 0.535000\n",
      "Epoch 40, CIFAR-10 Batch 1:  Loss is 0.000000 and Validation Accuracy is 0.521200\n",
      "Epoch 41, CIFAR-10 Batch 1:  Loss is 0.000000 and Validation Accuracy is 0.533400\n",
      "Epoch 42, CIFAR-10 Batch 1:  Loss is 0.000000 and Validation Accuracy is 0.535800\n",
      "Epoch 43, CIFAR-10 Batch 1:  Loss is 0.000000 and Validation Accuracy is 0.526600\n",
      "Epoch 44, CIFAR-10 Batch 1:  Loss is 0.000000 and Validation Accuracy is 0.528800\n",
      "Epoch 45, CIFAR-10 Batch 1:  Loss is 0.000000 and Validation Accuracy is 0.529000\n",
      "Epoch 46, CIFAR-10 Batch 1:  Loss is 0.000000 and Validation Accuracy is 0.525400\n",
      "Epoch 47, CIFAR-10 Batch 1:  Loss is 0.000000 and Validation Accuracy is 0.541000\n",
      "Epoch 48, CIFAR-10 Batch 1:  Loss is 0.000000 and Validation Accuracy is 0.513000\n",
      "Epoch 49, CIFAR-10 Batch 1:  Loss is 0.000000 and Validation Accuracy is 0.521600\n",
      "Epoch 50, CIFAR-10 Batch 1:  Loss is 0.000000 and Validation Accuracy is 0.535800\n",
      "Epoch 51, CIFAR-10 Batch 1:  Loss is 0.000000 and Validation Accuracy is 0.534000\n",
      "Epoch 52, CIFAR-10 Batch 1:  Loss is 0.000000 and Validation Accuracy is 0.523200\n",
      "Epoch 53, CIFAR-10 Batch 1:  Loss is 0.000000 and Validation Accuracy is 0.529000\n",
      "Epoch 54, CIFAR-10 Batch 1:  Loss is 0.000000 and Validation Accuracy is 0.520400\n",
      "Epoch 55, CIFAR-10 Batch 1:  Loss is 0.000000 and Validation Accuracy is 0.543800\n",
      "Epoch 56, CIFAR-10 Batch 1:  Loss is 0.000000 and Validation Accuracy is 0.525200\n",
      "Epoch 57, CIFAR-10 Batch 1:  Loss is 0.000000 and Validation Accuracy is 0.530600\n",
      "Epoch 58, CIFAR-10 Batch 1:  Loss is 72.684372 and Validation Accuracy is 0.521600\n",
      "Epoch 59, CIFAR-10 Batch 1:  Loss is 0.000000 and Validation Accuracy is 0.528000\n",
      "Epoch 60, CIFAR-10 Batch 1:  Loss is 0.000000 and Validation Accuracy is 0.517600\n",
      "Epoch 61, CIFAR-10 Batch 1:  Loss is 0.000000 and Validation Accuracy is 0.526800\n",
      "Epoch 62, CIFAR-10 Batch 1:  Loss is 0.000000 and Validation Accuracy is 0.521200\n",
      "Epoch 63, CIFAR-10 Batch 1:  Loss is 0.000000 and Validation Accuracy is 0.516400\n",
      "Epoch 64, CIFAR-10 Batch 1:  Loss is 0.000000 and Validation Accuracy is 0.522400\n",
      "Epoch 65, CIFAR-10 Batch 1:  Loss is 0.000000 and Validation Accuracy is 0.532800\n",
      "Epoch 66, CIFAR-10 Batch 1:  Loss is 0.000000 and Validation Accuracy is 0.525000\n",
      "Epoch 67, CIFAR-10 Batch 1:  Loss is 0.000000 and Validation Accuracy is 0.523000\n",
      "Epoch 68, CIFAR-10 Batch 1:  Loss is 0.000000 and Validation Accuracy is 0.529200\n",
      "Epoch 69, CIFAR-10 Batch 1:  Loss is 0.000000 and Validation Accuracy is 0.539600\n",
      "Epoch 70, CIFAR-10 Batch 1:  Loss is 0.000000 and Validation Accuracy is 0.533600\n"
     ]
    }
   ],
   "source": [
    "\"\"\"\n",
    "DON'T MODIFY ANYTHING IN THIS CELL\n",
    "\"\"\"\n",
    "print('Checking the Training on a Single Batch...')\n",
    "with tf.Session() as sess:\n",
    "    # Initializing the variables\n",
    "    sess.run(tf.global_variables_initializer())\n",
    "    \n",
    "    # Training cycle\n",
    "    for epoch in range(epochs):\n",
    "        batch_i = 1\n",
    "        for batch_features, batch_labels in helper.load_preprocess_training_batch(batch_i, batch_size):\n",
    "            train_neural_network(sess, optimizer, keep_probability, batch_features, batch_labels)\n",
    "        print('Epoch {:>2}, CIFAR-10 Batch {}:  '.format(epoch + 1, batch_i), end='')\n",
    "        print_stats(sess, batch_features, batch_labels, cost, accuracy)"
   ]
  },
  {
   "cell_type": "markdown",
   "metadata": {},
   "source": [
    "### Fully Train the Model\n",
    "Now that you got a good accuracy with a single CIFAR-10 batch, try it with all five batches."
   ]
  },
  {
   "cell_type": "code",
   "execution_count": 18,
   "metadata": {
    "collapsed": false
   },
   "outputs": [
    {
     "name": "stdout",
     "output_type": "stream",
     "text": [
      "Training...\n",
      "Epoch  1, CIFAR-10 Batch 1:  Loss is 39662.300781 and Validation Accuracy is 0.334600\n",
      "Epoch  1, CIFAR-10 Batch 2:  Loss is 20933.875000 and Validation Accuracy is 0.382800\n",
      "Epoch  1, CIFAR-10 Batch 3:  Loss is 12705.189453 and Validation Accuracy is 0.442600\n",
      "Epoch  1, CIFAR-10 Batch 4:  Loss is 10086.049805 and Validation Accuracy is 0.448600\n",
      "Epoch  1, CIFAR-10 Batch 5:  Loss is 10376.122070 and Validation Accuracy is 0.461800\n",
      "Epoch  2, CIFAR-10 Batch 1:  Loss is 8363.715820 and Validation Accuracy is 0.470600\n",
      "Epoch  2, CIFAR-10 Batch 2:  Loss is 4573.086426 and Validation Accuracy is 0.462600\n",
      "Epoch  2, CIFAR-10 Batch 3:  Loss is 2581.769043 and Validation Accuracy is 0.472000\n",
      "Epoch  2, CIFAR-10 Batch 4:  Loss is 3516.074951 and Validation Accuracy is 0.467600\n",
      "Epoch  2, CIFAR-10 Batch 5:  Loss is 3802.335205 and Validation Accuracy is 0.468800\n",
      "Epoch  3, CIFAR-10 Batch 1:  Loss is 2651.306152 and Validation Accuracy is 0.475200\n",
      "Epoch  3, CIFAR-10 Batch 2:  Loss is 1749.978149 and Validation Accuracy is 0.461800\n",
      "Epoch  3, CIFAR-10 Batch 3:  Loss is 1603.135010 and Validation Accuracy is 0.468400\n",
      "Epoch  3, CIFAR-10 Batch 4:  Loss is 1541.469360 and Validation Accuracy is 0.480000\n",
      "Epoch  3, CIFAR-10 Batch 5:  Loss is 2083.718506 and Validation Accuracy is 0.479000\n",
      "Epoch  4, CIFAR-10 Batch 1:  Loss is 1193.019287 and Validation Accuracy is 0.464600\n",
      "Epoch  4, CIFAR-10 Batch 2:  Loss is 993.246765 and Validation Accuracy is 0.471400\n",
      "Epoch  4, CIFAR-10 Batch 3:  Loss is 883.795593 and Validation Accuracy is 0.473600\n",
      "Epoch  4, CIFAR-10 Batch 4:  Loss is 621.028931 and Validation Accuracy is 0.479600\n",
      "Epoch  4, CIFAR-10 Batch 5:  Loss is 1099.793701 and Validation Accuracy is 0.482400\n",
      "Epoch  5, CIFAR-10 Batch 1:  Loss is 770.727173 and Validation Accuracy is 0.476200\n",
      "Epoch  5, CIFAR-10 Batch 2:  Loss is 387.721680 and Validation Accuracy is 0.480400\n",
      "Epoch  5, CIFAR-10 Batch 3:  Loss is 235.180420 and Validation Accuracy is 0.483400\n",
      "Epoch  5, CIFAR-10 Batch 4:  Loss is 407.607513 and Validation Accuracy is 0.482200\n",
      "Epoch  5, CIFAR-10 Batch 5:  Loss is 623.514954 and Validation Accuracy is 0.495400\n",
      "Epoch  6, CIFAR-10 Batch 1:  Loss is 511.115723 and Validation Accuracy is 0.488400\n",
      "Epoch  6, CIFAR-10 Batch 2:  Loss is 138.760010 and Validation Accuracy is 0.493000\n",
      "Epoch  6, CIFAR-10 Batch 3:  Loss is 76.664757 and Validation Accuracy is 0.495400\n",
      "Epoch  6, CIFAR-10 Batch 4:  Loss is 224.530548 and Validation Accuracy is 0.498800\n",
      "Epoch  6, CIFAR-10 Batch 5:  Loss is 226.199905 and Validation Accuracy is 0.498600\n",
      "Epoch  7, CIFAR-10 Batch 1:  Loss is 337.203186 and Validation Accuracy is 0.498600\n",
      "Epoch  7, CIFAR-10 Batch 2:  Loss is 112.338158 and Validation Accuracy is 0.484400\n",
      "Epoch  7, CIFAR-10 Batch 3:  Loss is 24.935450 and Validation Accuracy is 0.516200\n",
      "Epoch  7, CIFAR-10 Batch 4:  Loss is 162.451859 and Validation Accuracy is 0.498000\n",
      "Epoch  7, CIFAR-10 Batch 5:  Loss is 62.197777 and Validation Accuracy is 0.507000\n",
      "Epoch  8, CIFAR-10 Batch 1:  Loss is 261.115692 and Validation Accuracy is 0.506200\n",
      "Epoch  8, CIFAR-10 Batch 2:  Loss is 15.749634 and Validation Accuracy is 0.492200\n",
      "Epoch  8, CIFAR-10 Batch 3:  Loss is 0.000000 and Validation Accuracy is 0.512000\n",
      "Epoch  8, CIFAR-10 Batch 4:  Loss is 50.416172 and Validation Accuracy is 0.505200\n",
      "Epoch  8, CIFAR-10 Batch 5:  Loss is 50.718102 and Validation Accuracy is 0.513000\n",
      "Epoch  9, CIFAR-10 Batch 1:  Loss is 99.933609 and Validation Accuracy is 0.518800\n",
      "Epoch  9, CIFAR-10 Batch 2:  Loss is 31.062677 and Validation Accuracy is 0.488200\n",
      "Epoch  9, CIFAR-10 Batch 3:  Loss is 6.278967 and Validation Accuracy is 0.507800\n",
      "Epoch  9, CIFAR-10 Batch 4:  Loss is 37.638306 and Validation Accuracy is 0.507200\n",
      "Epoch  9, CIFAR-10 Batch 5:  Loss is 45.576618 and Validation Accuracy is 0.512400\n",
      "Epoch 10, CIFAR-10 Batch 1:  Loss is 32.333923 and Validation Accuracy is 0.514400\n",
      "Epoch 10, CIFAR-10 Batch 2:  Loss is 4.177002 and Validation Accuracy is 0.500200\n",
      "Epoch 10, CIFAR-10 Batch 3:  Loss is 12.905579 and Validation Accuracy is 0.515800\n",
      "Epoch 10, CIFAR-10 Batch 4:  Loss is 12.165423 and Validation Accuracy is 0.515200\n",
      "Epoch 10, CIFAR-10 Batch 5:  Loss is 28.668640 and Validation Accuracy is 0.515600\n",
      "Epoch 11, CIFAR-10 Batch 1:  Loss is 25.620035 and Validation Accuracy is 0.524400\n",
      "Epoch 11, CIFAR-10 Batch 2:  Loss is 5.879163 and Validation Accuracy is 0.506400\n",
      "Epoch 11, CIFAR-10 Batch 3:  Loss is 0.000000 and Validation Accuracy is 0.520800\n",
      "Epoch 11, CIFAR-10 Batch 4:  Loss is 0.000001 and Validation Accuracy is 0.518600\n",
      "Epoch 11, CIFAR-10 Batch 5:  Loss is 10.908895 and Validation Accuracy is 0.529600\n",
      "Epoch 12, CIFAR-10 Batch 1:  Loss is 11.173612 and Validation Accuracy is 0.529000\n",
      "Epoch 12, CIFAR-10 Batch 2:  Loss is 4.651532 and Validation Accuracy is 0.510600\n",
      "Epoch 12, CIFAR-10 Batch 3:  Loss is 1.851434 and Validation Accuracy is 0.520800\n",
      "Epoch 12, CIFAR-10 Batch 4:  Loss is 0.000000 and Validation Accuracy is 0.522200\n",
      "Epoch 12, CIFAR-10 Batch 5:  Loss is 5.366806 and Validation Accuracy is 0.528000\n",
      "Epoch 13, CIFAR-10 Batch 1:  Loss is 13.078799 and Validation Accuracy is 0.520400\n",
      "Epoch 13, CIFAR-10 Batch 2:  Loss is 0.000000 and Validation Accuracy is 0.525200\n",
      "Epoch 13, CIFAR-10 Batch 3:  Loss is 0.000000 and Validation Accuracy is 0.521400\n",
      "Epoch 13, CIFAR-10 Batch 4:  Loss is 33.824837 and Validation Accuracy is 0.517400\n",
      "Epoch 13, CIFAR-10 Batch 5:  Loss is 7.653613 and Validation Accuracy is 0.535200\n",
      "Epoch 14, CIFAR-10 Batch 1:  Loss is 11.000501 and Validation Accuracy is 0.522600\n",
      "Epoch 14, CIFAR-10 Batch 2:  Loss is 0.000000 and Validation Accuracy is 0.522800\n",
      "Epoch 14, CIFAR-10 Batch 3:  Loss is 0.000000 and Validation Accuracy is 0.527400\n",
      "Epoch 14, CIFAR-10 Batch 4:  Loss is 14.589480 and Validation Accuracy is 0.523000\n",
      "Epoch 14, CIFAR-10 Batch 5:  Loss is 0.000000 and Validation Accuracy is 0.526200\n",
      "Epoch 15, CIFAR-10 Batch 1:  Loss is 0.000000 and Validation Accuracy is 0.523000\n",
      "Epoch 15, CIFAR-10 Batch 2:  Loss is 1.790442 and Validation Accuracy is 0.519600\n",
      "Epoch 15, CIFAR-10 Batch 3:  Loss is 0.000000 and Validation Accuracy is 0.529000\n",
      "Epoch 15, CIFAR-10 Batch 4:  Loss is 0.000000 and Validation Accuracy is 0.528400\n",
      "Epoch 15, CIFAR-10 Batch 5:  Loss is 0.000000 and Validation Accuracy is 0.530400\n",
      "Epoch 16, CIFAR-10 Batch 1:  Loss is 0.000000 and Validation Accuracy is 0.528400\n",
      "Epoch 16, CIFAR-10 Batch 2:  Loss is 0.000000 and Validation Accuracy is 0.524200\n",
      "Epoch 16, CIFAR-10 Batch 3:  Loss is 0.000000 and Validation Accuracy is 0.520000\n",
      "Epoch 16, CIFAR-10 Batch 4:  Loss is 7.389911 and Validation Accuracy is 0.525600\n",
      "Epoch 16, CIFAR-10 Batch 5:  Loss is 0.000000 and Validation Accuracy is 0.531600\n",
      "Epoch 17, CIFAR-10 Batch 1:  Loss is 0.903412 and Validation Accuracy is 0.525400\n",
      "Epoch 17, CIFAR-10 Batch 2:  Loss is 0.000000 and Validation Accuracy is 0.531400\n",
      "Epoch 17, CIFAR-10 Batch 3:  Loss is 0.000000 and Validation Accuracy is 0.525400\n",
      "Epoch 17, CIFAR-10 Batch 4:  Loss is 0.000000 and Validation Accuracy is 0.530800\n",
      "Epoch 17, CIFAR-10 Batch 5:  Loss is 0.000000 and Validation Accuracy is 0.539000\n",
      "Epoch 18, CIFAR-10 Batch 1:  Loss is 0.000000 and Validation Accuracy is 0.538800\n",
      "Epoch 18, CIFAR-10 Batch 2:  Loss is 0.000000 and Validation Accuracy is 0.530000\n",
      "Epoch 18, CIFAR-10 Batch 3:  Loss is 0.000000 and Validation Accuracy is 0.528800\n",
      "Epoch 18, CIFAR-10 Batch 4:  Loss is 4.476236 and Validation Accuracy is 0.538600\n",
      "Epoch 18, CIFAR-10 Batch 5:  Loss is 0.000000 and Validation Accuracy is 0.543400\n",
      "Epoch 19, CIFAR-10 Batch 1:  Loss is 0.000000 and Validation Accuracy is 0.530000\n",
      "Epoch 19, CIFAR-10 Batch 2:  Loss is 0.000000 and Validation Accuracy is 0.544400\n",
      "Epoch 19, CIFAR-10 Batch 3:  Loss is 0.000000 and Validation Accuracy is 0.538000\n",
      "Epoch 19, CIFAR-10 Batch 4:  Loss is 10.375513 and Validation Accuracy is 0.537600\n",
      "Epoch 19, CIFAR-10 Batch 5:  Loss is 0.000000 and Validation Accuracy is 0.542400\n",
      "Epoch 20, CIFAR-10 Batch 1:  Loss is 0.000000 and Validation Accuracy is 0.534000\n",
      "Epoch 20, CIFAR-10 Batch 2:  Loss is 0.000000 and Validation Accuracy is 0.541800\n",
      "Epoch 20, CIFAR-10 Batch 3:  Loss is 0.000000 and Validation Accuracy is 0.534000\n",
      "Epoch 20, CIFAR-10 Batch 4:  Loss is 0.000000 and Validation Accuracy is 0.537200\n",
      "Epoch 20, CIFAR-10 Batch 5:  Loss is 0.000000 and Validation Accuracy is 0.541600\n",
      "Epoch 21, CIFAR-10 Batch 1:  Loss is 0.000000 and Validation Accuracy is 0.542400\n",
      "Epoch 21, CIFAR-10 Batch 2:  Loss is 0.000000 and Validation Accuracy is 0.538400\n",
      "Epoch 21, CIFAR-10 Batch 3:  Loss is 10.325824 and Validation Accuracy is 0.545400\n",
      "Epoch 21, CIFAR-10 Batch 4:  Loss is 0.000000 and Validation Accuracy is 0.533400\n",
      "Epoch 21, CIFAR-10 Batch 5:  Loss is 0.000000 and Validation Accuracy is 0.533600\n",
      "Epoch 22, CIFAR-10 Batch 1:  Loss is 0.000000 and Validation Accuracy is 0.540600\n",
      "Epoch 22, CIFAR-10 Batch 2:  Loss is 0.000000 and Validation Accuracy is 0.549800\n",
      "Epoch 22, CIFAR-10 Batch 3:  Loss is 6.250268 and Validation Accuracy is 0.540200\n",
      "Epoch 22, CIFAR-10 Batch 4:  Loss is 0.000000 and Validation Accuracy is 0.545000\n",
      "Epoch 22, CIFAR-10 Batch 5:  Loss is 1.759502 and Validation Accuracy is 0.556000\n",
      "Epoch 23, CIFAR-10 Batch 1:  Loss is 13.554102 and Validation Accuracy is 0.549400\n",
      "Epoch 23, CIFAR-10 Batch 2:  Loss is 0.000000 and Validation Accuracy is 0.552400\n",
      "Epoch 23, CIFAR-10 Batch 3:  Loss is 0.000000 and Validation Accuracy is 0.549800\n",
      "Epoch 23, CIFAR-10 Batch 4:  Loss is 17.502064 and Validation Accuracy is 0.556600\n",
      "Epoch 23, CIFAR-10 Batch 5:  Loss is 10.338282 and Validation Accuracy is 0.543800\n",
      "Epoch 24, CIFAR-10 Batch 1:  Loss is 0.000000 and Validation Accuracy is 0.543400\n",
      "Epoch 24, CIFAR-10 Batch 2:  Loss is 6.954309 and Validation Accuracy is 0.549400\n",
      "Epoch 24, CIFAR-10 Batch 3:  Loss is 0.000000 and Validation Accuracy is 0.557600\n",
      "Epoch 24, CIFAR-10 Batch 4:  Loss is 3.826578 and Validation Accuracy is 0.550800\n",
      "Epoch 24, CIFAR-10 Batch 5:  Loss is 0.000000 and Validation Accuracy is 0.553000\n",
      "Epoch 25, CIFAR-10 Batch 1:  Loss is 0.000000 and Validation Accuracy is 0.548800\n",
      "Epoch 25, CIFAR-10 Batch 2:  Loss is 0.000000 and Validation Accuracy is 0.557800\n",
      "Epoch 25, CIFAR-10 Batch 3:  Loss is 2.445960 and Validation Accuracy is 0.551800\n",
      "Epoch 25, CIFAR-10 Batch 4:  Loss is 4.844827 and Validation Accuracy is 0.552200\n",
      "Epoch 25, CIFAR-10 Batch 5:  Loss is 0.000000 and Validation Accuracy is 0.544200\n",
      "Epoch 26, CIFAR-10 Batch 1:  Loss is 0.000000 and Validation Accuracy is 0.544400\n",
      "Epoch 26, CIFAR-10 Batch 2:  Loss is 0.000000 and Validation Accuracy is 0.545600\n",
      "Epoch 26, CIFAR-10 Batch 3:  Loss is 0.000000 and Validation Accuracy is 0.550400\n",
      "Epoch 26, CIFAR-10 Batch 4:  Loss is 14.824475 and Validation Accuracy is 0.536600\n",
      "Epoch 26, CIFAR-10 Batch 5:  Loss is 0.000000 and Validation Accuracy is 0.556400\n",
      "Epoch 27, CIFAR-10 Batch 1:  Loss is 0.000000 and Validation Accuracy is 0.556200\n",
      "Epoch 27, CIFAR-10 Batch 2:  Loss is 0.000000 and Validation Accuracy is 0.554000\n",
      "Epoch 27, CIFAR-10 Batch 3:  Loss is 0.000000 and Validation Accuracy is 0.543400\n",
      "Epoch 27, CIFAR-10 Batch 4:  Loss is 0.000000 and Validation Accuracy is 0.559000\n",
      "Epoch 27, CIFAR-10 Batch 5:  Loss is 0.000000 and Validation Accuracy is 0.557600\n",
      "Epoch 28, CIFAR-10 Batch 1:  Loss is 0.000000 and Validation Accuracy is 0.559400\n",
      "Epoch 28, CIFAR-10 Batch 2:  Loss is 4.927564 and Validation Accuracy is 0.549600\n",
      "Epoch 28, CIFAR-10 Batch 3:  Loss is 0.000000 and Validation Accuracy is 0.548000\n",
      "Epoch 28, CIFAR-10 Batch 4:  Loss is 5.694287 and Validation Accuracy is 0.545800\n",
      "Epoch 28, CIFAR-10 Batch 5:  Loss is 0.000000 and Validation Accuracy is 0.558400\n",
      "Epoch 29, CIFAR-10 Batch 1:  Loss is 0.000000 and Validation Accuracy is 0.556800\n",
      "Epoch 29, CIFAR-10 Batch 2:  Loss is 0.000000 and Validation Accuracy is 0.552400\n",
      "Epoch 29, CIFAR-10 Batch 3:  Loss is 0.000000 and Validation Accuracy is 0.558600\n",
      "Epoch 29, CIFAR-10 Batch 4:  Loss is 0.000000 and Validation Accuracy is 0.554600\n",
      "Epoch 29, CIFAR-10 Batch 5:  Loss is 0.000000 and Validation Accuracy is 0.557400\n",
      "Epoch 30, CIFAR-10 Batch 1:  Loss is 0.000000 and Validation Accuracy is 0.548200\n",
      "Epoch 30, CIFAR-10 Batch 2:  Loss is 0.000000 and Validation Accuracy is 0.548400\n",
      "Epoch 30, CIFAR-10 Batch 3:  Loss is 0.000000 and Validation Accuracy is 0.548400\n",
      "Epoch 30, CIFAR-10 Batch 4:  Loss is 0.000000 and Validation Accuracy is 0.544400\n",
      "Epoch 30, CIFAR-10 Batch 5:  Loss is 0.000000 and Validation Accuracy is 0.547800\n",
      "Epoch 31, CIFAR-10 Batch 1:  Loss is 0.000000 and Validation Accuracy is 0.557800\n",
      "Epoch 31, CIFAR-10 Batch 2:  Loss is 0.000000 and Validation Accuracy is 0.550600\n",
      "Epoch 31, CIFAR-10 Batch 3:  Loss is 0.000000 and Validation Accuracy is 0.562800\n",
      "Epoch 31, CIFAR-10 Batch 4:  Loss is 0.000000 and Validation Accuracy is 0.548600\n",
      "Epoch 31, CIFAR-10 Batch 5:  Loss is 0.000000 and Validation Accuracy is 0.558800\n",
      "Epoch 32, CIFAR-10 Batch 1:  Loss is 0.000000 and Validation Accuracy is 0.567600\n",
      "Epoch 32, CIFAR-10 Batch 2:  Loss is 0.000000 and Validation Accuracy is 0.546800\n",
      "Epoch 32, CIFAR-10 Batch 3:  Loss is 0.000000 and Validation Accuracy is 0.562400\n",
      "Epoch 32, CIFAR-10 Batch 4:  Loss is 0.000000 and Validation Accuracy is 0.567000\n",
      "Epoch 32, CIFAR-10 Batch 5:  Loss is 5.667514 and Validation Accuracy is 0.561200\n",
      "Epoch 33, CIFAR-10 Batch 1:  Loss is 0.000000 and Validation Accuracy is 0.570800\n",
      "Epoch 33, CIFAR-10 Batch 2:  Loss is 0.000000 and Validation Accuracy is 0.549200\n",
      "Epoch 33, CIFAR-10 Batch 3:  Loss is 0.000000 and Validation Accuracy is 0.563800\n",
      "Epoch 33, CIFAR-10 Batch 4:  Loss is 0.000000 and Validation Accuracy is 0.549400\n",
      "Epoch 33, CIFAR-10 Batch 5:  Loss is 0.000000 and Validation Accuracy is 0.555000\n",
      "Epoch 34, CIFAR-10 Batch 1:  Loss is 0.000000 and Validation Accuracy is 0.561800\n",
      "Epoch 34, CIFAR-10 Batch 2:  Loss is 0.000000 and Validation Accuracy is 0.562000\n",
      "Epoch 34, CIFAR-10 Batch 3:  Loss is 8.925354 and Validation Accuracy is 0.563200\n",
      "Epoch 34, CIFAR-10 Batch 4:  Loss is 0.000000 and Validation Accuracy is 0.558600\n",
      "Epoch 34, CIFAR-10 Batch 5:  Loss is 0.000000 and Validation Accuracy is 0.559400\n",
      "Epoch 35, CIFAR-10 Batch 1:  Loss is 0.000000 and Validation Accuracy is 0.544600\n",
      "Epoch 35, CIFAR-10 Batch 2:  Loss is 0.000000 and Validation Accuracy is 0.563400\n",
      "Epoch 35, CIFAR-10 Batch 3:  Loss is 0.000000 and Validation Accuracy is 0.554200\n",
      "Epoch 35, CIFAR-10 Batch 4:  Loss is 0.000000 and Validation Accuracy is 0.556200\n",
      "Epoch 35, CIFAR-10 Batch 5:  Loss is 0.000000 and Validation Accuracy is 0.551400\n",
      "Epoch 36, CIFAR-10 Batch 1:  Loss is 0.000000 and Validation Accuracy is 0.566200\n",
      "Epoch 36, CIFAR-10 Batch 2:  Loss is 0.000000 and Validation Accuracy is 0.561000\n",
      "Epoch 36, CIFAR-10 Batch 3:  Loss is 2.999188 and Validation Accuracy is 0.563000\n",
      "Epoch 36, CIFAR-10 Batch 4:  Loss is 0.000000 and Validation Accuracy is 0.557000\n",
      "Epoch 36, CIFAR-10 Batch 5:  Loss is 0.000000 and Validation Accuracy is 0.557800\n",
      "Epoch 37, CIFAR-10 Batch 1:  Loss is 0.000000 and Validation Accuracy is 0.554600\n",
      "Epoch 37, CIFAR-10 Batch 2:  Loss is 0.000000 and Validation Accuracy is 0.560200\n",
      "Epoch 37, CIFAR-10 Batch 3:  Loss is 7.969714 and Validation Accuracy is 0.570000\n",
      "Epoch 37, CIFAR-10 Batch 4:  Loss is 0.000000 and Validation Accuracy is 0.562600\n",
      "Epoch 37, CIFAR-10 Batch 5:  Loss is 0.000000 and Validation Accuracy is 0.561800\n",
      "Epoch 38, CIFAR-10 Batch 1:  Loss is 0.000000 and Validation Accuracy is 0.566000\n",
      "Epoch 38, CIFAR-10 Batch 2:  Loss is 0.000000 and Validation Accuracy is 0.568200\n",
      "Epoch 38, CIFAR-10 Batch 3:  Loss is 0.000000 and Validation Accuracy is 0.561000\n",
      "Epoch 38, CIFAR-10 Batch 4:  Loss is 0.000000 and Validation Accuracy is 0.564000\n",
      "Epoch 38, CIFAR-10 Batch 5:  Loss is 0.000000 and Validation Accuracy is 0.563000\n",
      "Epoch 39, CIFAR-10 Batch 1:  Loss is 0.000000 and Validation Accuracy is 0.560600\n",
      "Epoch 39, CIFAR-10 Batch 2:  Loss is 0.000000 and Validation Accuracy is 0.562000\n",
      "Epoch 39, CIFAR-10 Batch 3:  Loss is 2.884741 and Validation Accuracy is 0.569000\n",
      "Epoch 39, CIFAR-10 Batch 4:  Loss is 0.000000 and Validation Accuracy is 0.561000\n",
      "Epoch 39, CIFAR-10 Batch 5:  Loss is 0.000000 and Validation Accuracy is 0.571600\n",
      "Epoch 40, CIFAR-10 Batch 1:  Loss is 0.000000 and Validation Accuracy is 0.572800\n",
      "Epoch 40, CIFAR-10 Batch 2:  Loss is 0.000000 and Validation Accuracy is 0.547200\n",
      "Epoch 40, CIFAR-10 Batch 3:  Loss is 0.000000 and Validation Accuracy is 0.553800\n",
      "Epoch 40, CIFAR-10 Batch 4:  Loss is 0.000000 and Validation Accuracy is 0.563600\n",
      "Epoch 40, CIFAR-10 Batch 5:  Loss is 0.000000 and Validation Accuracy is 0.566600\n",
      "Epoch 41, CIFAR-10 Batch 1:  Loss is 0.000000 and Validation Accuracy is 0.564000\n",
      "Epoch 41, CIFAR-10 Batch 2:  Loss is 0.000000 and Validation Accuracy is 0.565400\n",
      "Epoch 41, CIFAR-10 Batch 3:  Loss is 0.000000 and Validation Accuracy is 0.557400\n",
      "Epoch 41, CIFAR-10 Batch 4:  Loss is 0.000000 and Validation Accuracy is 0.550200\n",
      "Epoch 41, CIFAR-10 Batch 5:  Loss is 0.000000 and Validation Accuracy is 0.556600\n",
      "Epoch 42, CIFAR-10 Batch 1:  Loss is 0.000000 and Validation Accuracy is 0.564000\n",
      "Epoch 42, CIFAR-10 Batch 2:  Loss is 0.000000 and Validation Accuracy is 0.563200\n",
      "Epoch 42, CIFAR-10 Batch 3:  Loss is 0.000000 and Validation Accuracy is 0.565000\n",
      "Epoch 42, CIFAR-10 Batch 4:  Loss is 3.858130 and Validation Accuracy is 0.547600\n",
      "Epoch 42, CIFAR-10 Batch 5:  Loss is 0.000000 and Validation Accuracy is 0.560200\n",
      "Epoch 43, CIFAR-10 Batch 1:  Loss is 0.000000 and Validation Accuracy is 0.566800\n",
      "Epoch 43, CIFAR-10 Batch 2:  Loss is 0.000000 and Validation Accuracy is 0.569200\n",
      "Epoch 43, CIFAR-10 Batch 3:  Loss is 0.000000 and Validation Accuracy is 0.572600\n",
      "Epoch 43, CIFAR-10 Batch 4:  Loss is 0.000000 and Validation Accuracy is 0.562800\n",
      "Epoch 43, CIFAR-10 Batch 5:  Loss is 0.000000 and Validation Accuracy is 0.561200\n",
      "Epoch 44, CIFAR-10 Batch 1:  Loss is 0.000000 and Validation Accuracy is 0.565600\n",
      "Epoch 44, CIFAR-10 Batch 2:  Loss is 0.000000 and Validation Accuracy is 0.566200\n",
      "Epoch 44, CIFAR-10 Batch 3:  Loss is 0.000000 and Validation Accuracy is 0.564400\n",
      "Epoch 44, CIFAR-10 Batch 4:  Loss is 0.000000 and Validation Accuracy is 0.567800\n",
      "Epoch 44, CIFAR-10 Batch 5:  Loss is 0.000000 and Validation Accuracy is 0.570000\n",
      "Epoch 45, CIFAR-10 Batch 1:  Loss is 0.000000 and Validation Accuracy is 0.559800\n",
      "Epoch 45, CIFAR-10 Batch 2:  Loss is 0.000000 and Validation Accuracy is 0.563200\n",
      "Epoch 45, CIFAR-10 Batch 3:  Loss is 0.000000 and Validation Accuracy is 0.565400\n",
      "Epoch 45, CIFAR-10 Batch 4:  Loss is 0.000000 and Validation Accuracy is 0.560200\n",
      "Epoch 45, CIFAR-10 Batch 5:  Loss is 0.000000 and Validation Accuracy is 0.569400\n",
      "Epoch 46, CIFAR-10 Batch 1:  Loss is 0.000000 and Validation Accuracy is 0.563200\n",
      "Epoch 46, CIFAR-10 Batch 2:  Loss is 0.000000 and Validation Accuracy is 0.569600\n",
      "Epoch 46, CIFAR-10 Batch 3:  Loss is 0.000000 and Validation Accuracy is 0.567200\n",
      "Epoch 46, CIFAR-10 Batch 4:  Loss is 0.000000 and Validation Accuracy is 0.558600\n",
      "Epoch 46, CIFAR-10 Batch 5:  Loss is 0.000000 and Validation Accuracy is 0.571400\n",
      "Epoch 47, CIFAR-10 Batch 1:  Loss is 0.000000 and Validation Accuracy is 0.570000\n",
      "Epoch 47, CIFAR-10 Batch 2:  Loss is 0.000000 and Validation Accuracy is 0.575200\n",
      "Epoch 47, CIFAR-10 Batch 3:  Loss is 0.000000 and Validation Accuracy is 0.573800\n",
      "Epoch 47, CIFAR-10 Batch 4:  Loss is 0.000000 and Validation Accuracy is 0.553600\n",
      "Epoch 47, CIFAR-10 Batch 5:  Loss is 12.328466 and Validation Accuracy is 0.565800\n",
      "Epoch 48, CIFAR-10 Batch 1:  Loss is 0.000000 and Validation Accuracy is 0.575800\n",
      "Epoch 48, CIFAR-10 Batch 2:  Loss is 0.000000 and Validation Accuracy is 0.570600\n",
      "Epoch 48, CIFAR-10 Batch 3:  Loss is 0.000000 and Validation Accuracy is 0.564600\n",
      "Epoch 48, CIFAR-10 Batch 4:  Loss is 0.000000 and Validation Accuracy is 0.565200\n",
      "Epoch 48, CIFAR-10 Batch 5:  Loss is 0.000000 and Validation Accuracy is 0.568800\n",
      "Epoch 49, CIFAR-10 Batch 1:  Loss is 3.160999 and Validation Accuracy is 0.568400\n",
      "Epoch 49, CIFAR-10 Batch 2:  Loss is 0.000000 and Validation Accuracy is 0.566800\n",
      "Epoch 49, CIFAR-10 Batch 3:  Loss is 0.000000 and Validation Accuracy is 0.574400\n",
      "Epoch 49, CIFAR-10 Batch 4:  Loss is 0.000000 and Validation Accuracy is 0.561000\n",
      "Epoch 49, CIFAR-10 Batch 5:  Loss is 0.000000 and Validation Accuracy is 0.569000\n",
      "Epoch 50, CIFAR-10 Batch 1:  Loss is 0.000000 and Validation Accuracy is 0.571800\n",
      "Epoch 50, CIFAR-10 Batch 2:  Loss is 0.000000 and Validation Accuracy is 0.570400\n",
      "Epoch 50, CIFAR-10 Batch 3:  Loss is 0.000000 and Validation Accuracy is 0.566400\n",
      "Epoch 50, CIFAR-10 Batch 4:  Loss is 3.093018 and Validation Accuracy is 0.555600\n",
      "Epoch 50, CIFAR-10 Batch 5:  Loss is 0.000000 and Validation Accuracy is 0.563000\n",
      "Epoch 51, CIFAR-10 Batch 1:  Loss is 0.000000 and Validation Accuracy is 0.569000\n",
      "Epoch 51, CIFAR-10 Batch 2:  Loss is 0.000000 and Validation Accuracy is 0.574600\n",
      "Epoch 51, CIFAR-10 Batch 3:  Loss is 0.000000 and Validation Accuracy is 0.576800\n",
      "Epoch 51, CIFAR-10 Batch 4:  Loss is 0.000000 and Validation Accuracy is 0.577800\n",
      "Epoch 51, CIFAR-10 Batch 5:  Loss is 0.000000 and Validation Accuracy is 0.567400\n",
      "Epoch 52, CIFAR-10 Batch 1:  Loss is 0.000000 and Validation Accuracy is 0.564200\n",
      "Epoch 52, CIFAR-10 Batch 2:  Loss is 0.000000 and Validation Accuracy is 0.562800\n",
      "Epoch 52, CIFAR-10 Batch 3:  Loss is 0.000000 and Validation Accuracy is 0.570200\n",
      "Epoch 52, CIFAR-10 Batch 4:  Loss is 0.000000 and Validation Accuracy is 0.553600\n",
      "Epoch 52, CIFAR-10 Batch 5:  Loss is 0.000000 and Validation Accuracy is 0.568000\n",
      "Epoch 53, CIFAR-10 Batch 1:  Loss is 0.000000 and Validation Accuracy is 0.575800\n",
      "Epoch 53, CIFAR-10 Batch 2:  Loss is 0.000000 and Validation Accuracy is 0.578000\n",
      "Epoch 53, CIFAR-10 Batch 3:  Loss is 0.000000 and Validation Accuracy is 0.564400\n",
      "Epoch 53, CIFAR-10 Batch 4:  Loss is 0.000000 and Validation Accuracy is 0.554400\n",
      "Epoch 53, CIFAR-10 Batch 5:  Loss is 0.000000 and Validation Accuracy is 0.568000\n",
      "Epoch 54, CIFAR-10 Batch 1:  Loss is 0.000000 and Validation Accuracy is 0.568400\n",
      "Epoch 54, CIFAR-10 Batch 2:  Loss is 10.456134 and Validation Accuracy is 0.568600\n",
      "Epoch 54, CIFAR-10 Batch 3:  Loss is 0.077892 and Validation Accuracy is 0.575200\n",
      "Epoch 54, CIFAR-10 Batch 4:  Loss is 0.000000 and Validation Accuracy is 0.573400\n",
      "Epoch 54, CIFAR-10 Batch 5:  Loss is 0.000000 and Validation Accuracy is 0.563800\n",
      "Epoch 55, CIFAR-10 Batch 1:  Loss is 0.000000 and Validation Accuracy is 0.565800\n",
      "Epoch 55, CIFAR-10 Batch 2:  Loss is 0.000000 and Validation Accuracy is 0.571600\n",
      "Epoch 55, CIFAR-10 Batch 3:  Loss is 0.000000 and Validation Accuracy is 0.579800\n",
      "Epoch 55, CIFAR-10 Batch 4:  Loss is 0.000000 and Validation Accuracy is 0.576200\n",
      "Epoch 55, CIFAR-10 Batch 5:  Loss is 0.000000 and Validation Accuracy is 0.580400\n",
      "Epoch 56, CIFAR-10 Batch 1:  Loss is 0.000000 and Validation Accuracy is 0.579600\n",
      "Epoch 56, CIFAR-10 Batch 2:  Loss is 0.000000 and Validation Accuracy is 0.575800\n",
      "Epoch 56, CIFAR-10 Batch 3:  Loss is 0.000000 and Validation Accuracy is 0.569400\n",
      "Epoch 56, CIFAR-10 Batch 4:  Loss is 0.000000 and Validation Accuracy is 0.579600\n",
      "Epoch 56, CIFAR-10 Batch 5:  Loss is 0.000000 and Validation Accuracy is 0.570800\n",
      "Epoch 57, CIFAR-10 Batch 1:  Loss is 0.000000 and Validation Accuracy is 0.565000\n",
      "Epoch 57, CIFAR-10 Batch 2:  Loss is 0.000000 and Validation Accuracy is 0.570200\n",
      "Epoch 57, CIFAR-10 Batch 3:  Loss is 0.000000 and Validation Accuracy is 0.565200\n",
      "Epoch 57, CIFAR-10 Batch 4:  Loss is 0.000000 and Validation Accuracy is 0.578600\n",
      "Epoch 57, CIFAR-10 Batch 5:  Loss is 0.000000 and Validation Accuracy is 0.567800\n",
      "Epoch 58, CIFAR-10 Batch 1:  Loss is 0.000000 and Validation Accuracy is 0.583000\n",
      "Epoch 58, CIFAR-10 Batch 2:  Loss is 0.000000 and Validation Accuracy is 0.580800\n",
      "Epoch 58, CIFAR-10 Batch 3:  Loss is 5.721704 and Validation Accuracy is 0.569400\n",
      "Epoch 58, CIFAR-10 Batch 4:  Loss is 0.000000 and Validation Accuracy is 0.571600\n",
      "Epoch 58, CIFAR-10 Batch 5:  Loss is 0.436929 and Validation Accuracy is 0.582600\n",
      "Epoch 59, CIFAR-10 Batch 1:  Loss is 0.000000 and Validation Accuracy is 0.570000\n",
      "Epoch 59, CIFAR-10 Batch 2:  Loss is 0.000000 and Validation Accuracy is 0.576600\n",
      "Epoch 59, CIFAR-10 Batch 3:  Loss is 0.000000 and Validation Accuracy is 0.581800\n",
      "Epoch 59, CIFAR-10 Batch 4:  Loss is 0.000000 and Validation Accuracy is 0.569400\n",
      "Epoch 59, CIFAR-10 Batch 5:  Loss is 0.000000 and Validation Accuracy is 0.581200\n",
      "Epoch 60, CIFAR-10 Batch 1:  Loss is 0.000000 and Validation Accuracy is 0.583000\n",
      "Epoch 60, CIFAR-10 Batch 2:  Loss is 0.000000 and Validation Accuracy is 0.577200\n",
      "Epoch 60, CIFAR-10 Batch 3:  Loss is 0.000000 and Validation Accuracy is 0.573800\n",
      "Epoch 60, CIFAR-10 Batch 4:  Loss is 0.000000 and Validation Accuracy is 0.572600\n",
      "Epoch 60, CIFAR-10 Batch 5:  Loss is 0.000000 and Validation Accuracy is 0.575800\n",
      "Epoch 61, CIFAR-10 Batch 1:  Loss is 0.000000 and Validation Accuracy is 0.565600\n",
      "Epoch 61, CIFAR-10 Batch 2:  Loss is 0.000000 and Validation Accuracy is 0.585200\n",
      "Epoch 61, CIFAR-10 Batch 3:  Loss is 0.000000 and Validation Accuracy is 0.571400\n",
      "Epoch 61, CIFAR-10 Batch 4:  Loss is 0.000000 and Validation Accuracy is 0.575200\n",
      "Epoch 61, CIFAR-10 Batch 5:  Loss is 0.000000 and Validation Accuracy is 0.576600\n",
      "Epoch 62, CIFAR-10 Batch 1:  Loss is 0.000000 and Validation Accuracy is 0.586600\n",
      "Epoch 62, CIFAR-10 Batch 2:  Loss is 0.000000 and Validation Accuracy is 0.572000\n",
      "Epoch 62, CIFAR-10 Batch 3:  Loss is 2.828393 and Validation Accuracy is 0.580200\n",
      "Epoch 62, CIFAR-10 Batch 4:  Loss is 0.000000 and Validation Accuracy is 0.574800\n",
      "Epoch 62, CIFAR-10 Batch 5:  Loss is 0.000000 and Validation Accuracy is 0.574200\n",
      "Epoch 63, CIFAR-10 Batch 1:  Loss is 0.000000 and Validation Accuracy is 0.579400\n",
      "Epoch 63, CIFAR-10 Batch 2:  Loss is 0.000000 and Validation Accuracy is 0.584800\n",
      "Epoch 63, CIFAR-10 Batch 3:  Loss is 0.000000 and Validation Accuracy is 0.568000\n",
      "Epoch 63, CIFAR-10 Batch 4:  Loss is 0.000000 and Validation Accuracy is 0.573400\n",
      "Epoch 63, CIFAR-10 Batch 5:  Loss is 0.000000 and Validation Accuracy is 0.576000\n",
      "Epoch 64, CIFAR-10 Batch 1:  Loss is 0.000000 and Validation Accuracy is 0.581800\n",
      "Epoch 64, CIFAR-10 Batch 2:  Loss is 0.000000 and Validation Accuracy is 0.577600\n",
      "Epoch 64, CIFAR-10 Batch 3:  Loss is 0.000000 and Validation Accuracy is 0.584400\n",
      "Epoch 64, CIFAR-10 Batch 4:  Loss is 0.000000 and Validation Accuracy is 0.578000\n",
      "Epoch 64, CIFAR-10 Batch 5:  Loss is 0.000000 and Validation Accuracy is 0.583000\n",
      "Epoch 65, CIFAR-10 Batch 1:  Loss is 0.000000 and Validation Accuracy is 0.565600\n",
      "Epoch 65, CIFAR-10 Batch 2:  Loss is 0.000000 and Validation Accuracy is 0.574200\n",
      "Epoch 65, CIFAR-10 Batch 3:  Loss is 0.000000 and Validation Accuracy is 0.579400\n",
      "Epoch 65, CIFAR-10 Batch 4:  Loss is 0.000000 and Validation Accuracy is 0.575200\n",
      "Epoch 65, CIFAR-10 Batch 5:  Loss is 0.000000 and Validation Accuracy is 0.578600\n",
      "Epoch 66, CIFAR-10 Batch 1:  Loss is 0.000000 and Validation Accuracy is 0.580000\n",
      "Epoch 66, CIFAR-10 Batch 2:  Loss is 0.000000 and Validation Accuracy is 0.575200\n",
      "Epoch 66, CIFAR-10 Batch 3:  Loss is 0.000000 and Validation Accuracy is 0.578200\n",
      "Epoch 66, CIFAR-10 Batch 4:  Loss is 0.000000 and Validation Accuracy is 0.574200\n",
      "Epoch 66, CIFAR-10 Batch 5:  Loss is 0.000000 and Validation Accuracy is 0.574000\n",
      "Epoch 67, CIFAR-10 Batch 1:  Loss is 0.932227 and Validation Accuracy is 0.587800\n",
      "Epoch 67, CIFAR-10 Batch 2:  Loss is 0.000000 and Validation Accuracy is 0.568800\n",
      "Epoch 67, CIFAR-10 Batch 3:  Loss is 0.000000 and Validation Accuracy is 0.577800\n",
      "Epoch 67, CIFAR-10 Batch 4:  Loss is 0.000000 and Validation Accuracy is 0.571400\n",
      "Epoch 67, CIFAR-10 Batch 5:  Loss is 0.000000 and Validation Accuracy is 0.585000\n",
      "Epoch 68, CIFAR-10 Batch 1:  Loss is 0.000000 and Validation Accuracy is 0.576600\n",
      "Epoch 68, CIFAR-10 Batch 2:  Loss is 0.000000 and Validation Accuracy is 0.583200\n",
      "Epoch 68, CIFAR-10 Batch 3:  Loss is 0.000000 and Validation Accuracy is 0.576000\n",
      "Epoch 68, CIFAR-10 Batch 4:  Loss is 0.000000 and Validation Accuracy is 0.579000\n",
      "Epoch 68, CIFAR-10 Batch 5:  Loss is 0.000000 and Validation Accuracy is 0.575800\n",
      "Epoch 69, CIFAR-10 Batch 1:  Loss is 0.000000 and Validation Accuracy is 0.581000\n",
      "Epoch 69, CIFAR-10 Batch 2:  Loss is 0.000000 and Validation Accuracy is 0.582400\n",
      "Epoch 69, CIFAR-10 Batch 3:  Loss is 0.000000 and Validation Accuracy is 0.582400\n",
      "Epoch 69, CIFAR-10 Batch 4:  Loss is 0.000000 and Validation Accuracy is 0.574000\n",
      "Epoch 69, CIFAR-10 Batch 5:  Loss is 0.000000 and Validation Accuracy is 0.584800\n",
      "Epoch 70, CIFAR-10 Batch 1:  Loss is 0.000000 and Validation Accuracy is 0.579800\n",
      "Epoch 70, CIFAR-10 Batch 2:  Loss is 0.000000 and Validation Accuracy is 0.582400\n",
      "Epoch 70, CIFAR-10 Batch 3:  Loss is 0.000000 and Validation Accuracy is 0.571800\n",
      "Epoch 70, CIFAR-10 Batch 4:  Loss is 0.000000 and Validation Accuracy is 0.571800\n",
      "Epoch 70, CIFAR-10 Batch 5:  Loss is 0.000000 and Validation Accuracy is 0.579600\n"
     ]
    }
   ],
   "source": [
    "\"\"\"\n",
    "DON'T MODIFY ANYTHING IN THIS CELL\n",
    "\"\"\"\n",
    "save_model_path = './image_classification'\n",
    "\n",
    "print('Training...')\n",
    "with tf.Session() as sess:\n",
    "    # Initializing the variables\n",
    "    sess.run(tf.global_variables_initializer())\n",
    "    \n",
    "    # Training cycle\n",
    "    for epoch in range(epochs):\n",
    "        # Loop over all batches\n",
    "        n_batches = 5\n",
    "        for batch_i in range(1, n_batches + 1):\n",
    "            for batch_features, batch_labels in helper.load_preprocess_training_batch(batch_i, batch_size):\n",
    "                train_neural_network(sess, optimizer, keep_probability, batch_features, batch_labels)\n",
    "            print('Epoch {:>2}, CIFAR-10 Batch {}:  '.format(epoch + 1, batch_i), end='')\n",
    "            print_stats(sess, batch_features, batch_labels, cost, accuracy)\n",
    "            \n",
    "    # Save Model\n",
    "    saver = tf.train.Saver()\n",
    "    save_path = saver.save(sess, save_model_path)"
   ]
  },
  {
   "cell_type": "markdown",
   "metadata": {},
   "source": [
    "# Checkpoint\n",
    "The model has been saved to disk.\n",
    "## Test Model\n",
    "Test your model against the test dataset.  This will be your final accuracy. You should have an accuracy greater than 50%. If you don't, keep tweaking the model architecture and parameters."
   ]
  },
  {
   "cell_type": "code",
   "execution_count": 19,
   "metadata": {
    "collapsed": false
   },
   "outputs": [
    {
     "name": "stdout",
     "output_type": "stream",
     "text": [
      "INFO:tensorflow:Restoring parameters from ./image_classification\n",
      "Testing Accuracy: 0.5824762658227848\n",
      "\n"
     ]
    },
    {
     "data": {
      "image/png": "[encoded data removed]",
      "text/plain": [
       "<matplotlib.figure.Figure at 0x10e47f518>"
      ]
     },
     "metadata": {
      "image/png": {
       "height": 319,
       "width": 349
      }
     },
     "output_type": "display_data"
    }
   ],
   "source": [
    "\"\"\"\n",
    "DON'T MODIFY ANYTHING IN THIS CELL\n",
    "\"\"\"\n",
    "%matplotlib inline\n",
    "%config InlineBackend.figure_format = 'retina'\n",
    "\n",
    "import tensorflow as tf\n",
    "import pickle\n",
    "import helper\n",
    "import random\n",
    "\n",
    "# Set batch size if not already set\n",
    "try:\n",
    "    if batch_size:\n",
    "        pass\n",
    "except NameError:\n",
    "    batch_size = 64\n",
    "\n",
    "save_model_path = './image_classification'\n",
    "n_samples = 4\n",
    "top_n_predictions = 3\n",
    "\n",
    "def test_model():\n",
    "    \"\"\"\n",
    "    Test the saved model against the test dataset\n",
    "    \"\"\"\n",
    "\n",
    "    test_features, test_labels = pickle.load(open('preprocess_training.p', mode='rb'))\n",
    "    loaded_graph = tf.Graph()\n",
    "\n",
    "    with tf.Session(graph=loaded_graph) as sess:\n",
    "        # Load model\n",
    "        loader = tf.train.import_meta_graph(save_model_path + '.meta')\n",
    "        loader.restore(sess, save_model_path)\n",
    "\n",
    "        # Get Tensors from loaded model\n",
    "        loaded_x = loaded_graph.get_tensor_by_name('x:0')\n",
    "        loaded_y = loaded_graph.get_tensor_by_name('y:0')\n",
    "        loaded_keep_prob = loaded_graph.get_tensor_by_name('keep_prob:0')\n",
    "        loaded_logits = loaded_graph.get_tensor_by_name('logits:0')\n",
    "        loaded_acc = loaded_graph.get_tensor_by_name('accuracy:0')\n",
    "        \n",
    "        # Get accuracy in batches for memory limitations\n",
    "        test_batch_acc_total = 0\n",
    "        test_batch_count = 0\n",
    "        \n",
    "        for train_feature_batch, train_label_batch in helper.batch_features_labels(test_features, test_labels, batch_size):\n",
    "            test_batch_acc_total += sess.run(\n",
    "                loaded_acc,\n",
    "                feed_dict={loaded_x: train_feature_batch, loaded_y: train_label_batch, loaded_keep_prob: 1.0})\n",
    "            test_batch_count += 1\n",
    "\n",
    "        print('Testing Accuracy: {}\\n'.format(test_batch_acc_total/test_batch_count))\n",
    "\n",
    "        # Print Random Samples\n",
    "        random_test_features, random_test_labels = tuple(zip(*random.sample(list(zip(test_features, test_labels)), n_samples)))\n",
    "        random_test_predictions = sess.run(\n",
    "            tf.nn.top_k(tf.nn.softmax(loaded_logits), top_n_predictions),\n",
    "            feed_dict={loaded_x: random_test_features, loaded_y: random_test_labels, loaded_keep_prob: 1.0})\n",
    "        helper.display_image_predictions(random_test_features, random_test_labels, random_test_predictions)\n",
    "\n",
    "\n",
    "test_model()"
   ]
  },
  {
   "cell_type": "markdown",
   "metadata": {},
   "source": [
    "## Why 50-80% Accuracy?\n",
    "You might be wondering why you can't get an accuracy any higher. First things first, 50% isn't bad for a simple CNN.  Pure guessing would get you 10% accuracy. That's because there are many more techniques that can be applied to your model and we recemmond that once you are done with this project, you explore!\n",
    "\n",
    "## Submitting This Project\n",
    "When submitting this project, make sure to run all the cells before saving the notebook.  Save the notebook file as \"image_classification.ipynb\" and save it as a HTML file under \"File\" -> \"Download as\".  Include the \"helper.py\" and \"problem_unittests.py\" files in your submission."
   ]
  },
  {
   "cell_type": "code",
   "execution_count": null,
   "metadata": {
    "collapsed": true
   },
   "outputs": [],
   "source": []
  },
  {
   "cell_type": "code",
   "execution_count": null,
   "metadata": {
    "collapsed": true
   },
   "outputs": [],
   "source": []
  }
 ],
 "metadata": {
  "kernelspec": {
   "display_name": "Python 3",
   "language": "python",
   "name": "python3"
  },
  "language_info": {
   "codemirror_mode": {
    "name": "ipython",
    "version": 3
   },
   "file_extension": ".py",
   "mimetype": "text/x-python",
   "name": "python",
   "nbconvert_exporter": "python",
   "pygments_lexer": "ipython3",
   "version": "3.6.0"
  }
 },
 "nbformat": 4,
 "nbformat_minor": 0
}
